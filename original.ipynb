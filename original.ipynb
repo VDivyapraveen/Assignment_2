{
 "cells": [
  {
   "cell_type": "code",
   "execution_count": null,
   "id": "ba7256af",
   "metadata": {},
   "outputs": [],
   "source": [
    "!pip install mysql-connector-python tabulate sqlalchemy pymysql"
   ]
  },
  {
   "cell_type": "code",
   "execution_count": null,
   "id": "d67fd83b",
   "metadata": {},
   "outputs": [],
   "source": [
    "import pandas as pd; import mysql.connector, json\n",
    "import matplotlib.pyplot as plt\n",
    "import seaborn as sns"
   ]
  },
  {
   "cell_type": "code",
   "execution_count": null,
   "id": "749549f5",
   "metadata": {},
   "outputs": [],
   "source": [
    "from sqlalchemy import create_engine; from tabulate import tabulate"
   ]
  },
  {
   "cell_type": "code",
   "execution_count": null,
   "id": "2db428fe",
   "metadata": {},
   "outputs": [],
   "source": [
    "mydb=mysql.connector.connect(\n",
    "    host=\"localhost\",\n",
    "    username=\"root\",\n",
    "    password=\"\",\n",
    "    port=3306)\n",
    "mycursor=mydb.cursor(buffered=True)"
   ]
  },
  {
   "cell_type": "code",
   "execution_count": null,
   "id": "89174d52",
   "metadata": {},
   "outputs": [],
   "source": [
    "mycursor.execute(\"CREATE DATABASE project2\")"
   ]
  },
  {
   "cell_type": "code",
   "execution_count": null,
   "id": "1e304bc8",
   "metadata": {},
   "outputs": [],
   "source": [
    "mycursor.execute(\"USE project2\")"
   ]
  },
  {
   "cell_type": "code",
   "execution_count": null,
   "id": "53ea39ae",
   "metadata": {},
   "outputs": [],
   "source": [
    "username = 'root'\n",
    "password = 'your_password'\n",
    "host = 'localhost'\n",
    "port = 3306\n",
    "database = 'project2'\n",
    "engine = create_engine('mysql+pymysql://root@localhost/project2')"
   ]
  },
  {
   "cell_type": "code",
   "execution_count": 39,
   "id": "7bff1335",
   "metadata": {},
   "outputs": [],
   "source": [
    "file_path = r\"D:\\MyProjectsDuplicates\\project2\\Bird_Monitoring_Data_GRASSLAND.XLSX\" \n",
    "excel_data = pd.ExcelFile(file_path)  \n",
    "sheet_names = excel_data.sheet_names \n",
    "sheets_dict = {sheet: excel_data.parse(sheet) for sheet in sheet_names} \n",
    "\n",
    "file_path1 = r\"D:\\MyProjectsDuplicates\\project2\\Bird_Monitoring_Data_FOREST.XLSX\" \n",
    "excel_data1 = pd.ExcelFile(file_path1)  \n",
    "sheet_names1 = excel_data1.sheet_names \n",
    "sheets_dict1 = {sheet: excel_data1.parse(sheet) for sheet in sheet_names1}"
   ]
  },
  {
   "cell_type": "code",
   "execution_count": 40,
   "id": "13924a4d",
   "metadata": {},
   "outputs": [
    {
     "name": "stderr",
     "output_type": "stream",
     "text": [
      "C:\\Users\\USER\\AppData\\Local\\Temp\\ipykernel_20768\\2383316230.py:1: FutureWarning: The behavior of DataFrame concatenation with empty or all-NA entries is deprecated. In a future version, this will no longer exclude empty or all-NA columns when determining the result dtypes. To retain the old behavior, exclude the relevant entries before the concat operation.\n",
      "  combined_df = pd.concat(\n"
     ]
    }
   ],
   "source": [
    "combined_df = pd.concat(\n",
    "    [df.assign(Sheet=sheet_name) for sheet_name, df in sheets_dict.items()],\n",
    "    ignore_index=True)\n",
    "df1 = combined_df.drop(columns=['Sheet'])"
   ]
  },
  {
   "cell_type": "code",
   "execution_count": 41,
   "id": "bb407bc4",
   "metadata": {},
   "outputs": [],
   "source": [
    "combined_df1 = pd.concat(\n",
    "    [df.assign(Sheet=sheet_name) for sheet_name, df in sheets_dict1.items()],\n",
    "    ignore_index=True)\n",
    "df2 = combined_df1.drop(columns=['Sheet'])"
   ]
  },
  {
   "cell_type": "code",
   "execution_count": 42,
   "id": "9a092acb",
   "metadata": {},
   "outputs": [
    {
     "name": "stdout",
     "output_type": "stream",
     "text": [
      "Columns in df1 but not in df2: {'Previously_Obs', 'TaxonCode'}\n",
      "Columns in df2 but not in df1: {'Site_Name', 'NPSTaxonCode'}\n"
     ]
    }
   ],
   "source": [
    "cols_df1 = set(df1.columns)\n",
    "cols_df2 = set(df2.columns)\n",
    "diff_cols_df1 = cols_df1 - cols_df2\n",
    "diff_cols_df2 = cols_df2 - cols_df1\n",
    "print(\"Columns in df1 but not in df2:\", diff_cols_df1)\n",
    "print(\"Columns in df2 but not in df1:\", diff_cols_df2)\n",
    "df1= df1.rename(columns={'TaxonCode': 'NPSTaxonCode'})"
   ]
  },
  {
   "cell_type": "code",
   "execution_count": 43,
   "id": "f63311cf",
   "metadata": {},
   "outputs": [],
   "source": [
    "combined_df = pd.concat([df1, df2], ignore_index=True)\n",
    "combined_df.index = range(1, len(combined_df) + 1)"
   ]
  },
  {
   "cell_type": "code",
   "execution_count": 44,
   "id": "b8bba247",
   "metadata": {},
   "outputs": [],
   "source": [
    "combined_df.drop('Sub_Unit_Code', axis=1, inplace=True)\n",
    "combined_df.loc[combined_df['Common_Name'] == 'Northwestern Crow', 'NPSTaxonCode'] = 87106\n",
    "combined_df.drop(combined_df[combined_df['Common_Name'] == 'Chinese Pond-Heron'].index, inplace=True)\n",
    "combined_df.loc[combined_df['Common_Name'] == 'House Finch', 'AcceptedTSN'] = 997805"
   ]
  },
  {
   "cell_type": "code",
   "execution_count": 45,
   "id": "d5e3473d",
   "metadata": {},
   "outputs": [],
   "source": [
    "combined_df['Start_Time'] = pd.to_datetime(combined_df['Start_Time'], format='%H:%M:%S').dt.time\n",
    "combined_df['End_Time'] = pd.to_datetime(combined_df['End_Time'], format='%H:%M:%S').dt.time"
   ]
  },
  {
   "cell_type": "code",
   "execution_count": 46,
   "id": "b19816f3",
   "metadata": {},
   "outputs": [],
   "source": [
    "combined_df[\"Initial_Three_Min_Cnt\"]=combined_df[\"Initial_Three_Min_Cnt\"].astype(bool)\n",
    "combined_df[\"Previously_Obs\"]=combined_df[\"Previously_Obs\"].astype(object)\n",
    "combined_df[\"PIF_Watchlist_Status\"]=combined_df[\"PIF_Watchlist_Status\"].astype(bool)\n",
    "combined_df[\"Regional_Stewardship_Status\"]=combined_df[\"Regional_Stewardship_Status\"].astype(bool)\n",
    "combined_df[\"Flyover_Observed\"]=combined_df[\"Flyover_Observed\"].astype(bool)"
   ]
  },
  {
   "cell_type": "code",
   "execution_count": 47,
   "id": "8860648f",
   "metadata": {},
   "outputs": [],
   "source": [
    "duplicates = combined_df.duplicated()\n",
    "duplicates = combined_df[combined_df.duplicated(keep='first')]\n",
    "combined_df = combined_df.drop_duplicates(keep='first')"
   ]
  },
  {
   "cell_type": "code",
   "execution_count": 48,
   "id": "76e23df9",
   "metadata": {},
   "outputs": [],
   "source": [
    "combined_df.loc[:, 'ID_Method'] = combined_df['ID_Method'].fillna(combined_df['ID_Method'].mode()[0])\n",
    "combined_df.loc[:, 'Distance'] = combined_df['Distance'].fillna('> 50 Meters')"
   ]
  },
  {
   "cell_type": "code",
   "execution_count": 49,
   "id": "0785ce78",
   "metadata": {},
   "outputs": [],
   "source": [
    "combined_df.loc[:, 'Month'] = combined_df['Date'].dt.month\n",
    "month_al= {5: 'May', 6: 'June', 7: 'July'}\n",
    "combined_df['Month'] = combined_df['Month'].replace(month_al)"
   ]
  },
  {
   "cell_type": "code",
   "execution_count": 50,
   "id": "206d65eb",
   "metadata": {},
   "outputs": [],
   "source": [
    "def get_season(month):\n",
    "    if month in [5]:\n",
    "        return 'Spring'\n",
    "    else:\n",
    "        return 'Summer'\n",
    "combined_df['Season'] = combined_df['Date'].dt.month.apply(get_season)"
   ]
  },
  {
   "cell_type": "code",
   "execution_count": 51,
   "id": "4975cc4a",
   "metadata": {},
   "outputs": [],
   "source": [
    "\n",
    "combined_df['Start_Time'] = pd.to_datetime(combined_df['Start_Time'], format='%H:%M:%S')\n",
    "combined_df['End_Time'] = pd.to_datetime(combined_df['End_Time'], format='%H:%M:%S')\n",
    "combined_df['Observation_Duration'] = combined_df['End_Time'] - combined_df['Start_Time']\n",
    "def format_to_hr_min(td):\n",
    "    total_minutes = int(td.total_seconds() // 60)\n",
    "    h, m = divmod(total_minutes, 60)\n",
    "    parts = []\n",
    "    if h > 0:\n",
    "        parts.append(f\"{h} hr\")\n",
    "    if m > 0:\n",
    "        parts.append(f\"{m} min\")\n",
    "    return ' '.join(parts) if parts else \"0 min\"\n",
    "combined_df['Observation_Duration'] = combined_df['Observation_Duration'].apply(format_to_hr_min)"
   ]
  },
  {
   "cell_type": "code",
   "execution_count": 52,
   "id": "60021b4d",
   "metadata": {},
   "outputs": [],
   "source": [
    "combined_df = combined_df.drop(columns=['Date', 'Previously_Obs', 'Site_Name'])\n",
    "combined_df['Sex'] = combined_df['Sex'].fillna('Unknown')"
   ]
  },
  {
   "cell_type": "code",
   "execution_count": 53,
   "id": "4e88a2aa",
   "metadata": {},
   "outputs": [
    {
     "data": {
      "text/plain": [
       "<Axes: ylabel='Humidity'>"
      ]
     },
     "execution_count": 53,
     "metadata": {},
     "output_type": "execute_result"
    },
    {
     "data": {
      "image/png": "[encoded data removed]",
      "text/plain": [
       "<Figure size 640x480 with 1 Axes>"
      ]
     },
     "metadata": {},
     "output_type": "display_data"
    }
   ],
   "source": [
    "sns.boxplot(combined_df[\"Humidity\"])"
   ]
  },
  {
   "cell_type": "code",
   "execution_count": 54,
   "id": "ee54ba4e",
   "metadata": {},
   "outputs": [
    {
     "name": "stdout",
     "output_type": "stream",
     "text": [
      "Remaining outliers: 0\n"
     ]
    }
   ],
   "source": [
    "Q1 = combined_df[\"Humidity\"].quantile(0.25)\n",
    "Q3 = combined_df[\"Humidity\"].quantile(0.75)\n",
    "IQR = Q3 - Q1\n",
    "lower_bound = Q1 - 1.5 * IQR\n",
    "upper_bound = Q3 + 1.5 * IQR\n",
    "outliers = combined_df[(combined_df[\"Humidity\"] < lower_bound) | (combined_df[\"Humidity\"] > upper_bound)]\n",
    "combined_df.loc[combined_df['Humidity'] > upper_bound, 'Humidity'] = upper_bound\n",
    "combined_df.loc[combined_df['Humidity'] < lower_bound, 'Humidity'] = lower_bound\n",
    "outliers = combined_df[(combined_df[\"Humidity\"] < lower_bound) | (combined_df[\"Humidity\"] > upper_bound)]\n",
    "print(f\"Remaining outliers: {len(outliers)}\")"
   ]
  },
  {
   "cell_type": "code",
   "execution_count": 55,
   "id": "f16af671",
   "metadata": {},
   "outputs": [
    {
     "data": {
      "text/plain": [
       "<Axes: ylabel='Temperature'>"
      ]
     },
     "execution_count": 55,
     "metadata": {},
     "output_type": "execute_result"
    },
    {
     "data": {
      "image/png": "[encoded data removed]",
      "text/plain": [
       "<Figure size 640x480 with 1 Axes>"
      ]
     },
     "metadata": {},
     "output_type": "display_data"
    }
   ],
   "source": [
    "sns.boxplot(combined_df[\"Temperature\"])"
   ]
  },
  {
   "cell_type": "code",
   "execution_count": 56,
   "id": "f09fd198",
   "metadata": {},
   "outputs": [
    {
     "name": "stdout",
     "output_type": "stream",
     "text": [
      "Remaining outliers: 0\n"
     ]
    }
   ],
   "source": [
    "Q1 = combined_df[\"Temperature\"].quantile(0.25)\n",
    "Q3 = combined_df[\"Temperature\"].quantile(0.75)\n",
    "IQR = Q3 - Q1\n",
    "lower_bound = Q1 - 1.5 * IQR\n",
    "upper_bound = Q3 + 1.5 * IQR\n",
    "outliers = combined_df[(combined_df[\"Temperature\"] < lower_bound) | (combined_df[\"Temperature\"] > upper_bound)]\n",
    "combined_df.loc[combined_df['Temperature'] > upper_bound, 'Temperature'] = upper_bound\n",
    "combined_df.loc[combined_df['Temperature'] < lower_bound, 'Temperature'] = lower_bound\n",
    "outliers = combined_df[(combined_df[\"Temperature\"] < lower_bound) | (combined_df[\"Temperature\"] > upper_bound)]\n",
    "print(f\"Remaining outliers: {len(outliers)}\")"
   ]
  },
  {
   "cell_type": "code",
   "execution_count": 120,
   "id": "40fab207",
   "metadata": {},
   "outputs": [
    {
     "name": "stdout",
     "output_type": "stream",
     "text": [
      "\n",
      "What type of data would you like to visualize?\n",
      "1. Categorical\n",
      "2. Discrete\n",
      "3. Continuous\n",
      "4. Date/Time\n"
     ]
    },
    {
     "data": {
      "image/png": "[encoded data removed]",
      "text/plain": [
       "<Figure size 1000x500 with 1 Axes>"
      ]
     },
     "metadata": {},
     "output_type": "display_data"
    }
   ],
   "source": [
    "categorical_cols = [\n",
    "    'Admin_Unit_Code', 'Plot_Name', 'Location_Type', 'Observer', 'Interval_Length',\n",
    "    'ID_Method', 'Distance', 'Flyover_Observed', 'Sex', 'Common_Name', 'Scientific_Name',\n",
    "    'AOU_Code', 'PIF_Watchlist_Status', 'Regional_Stewardship_Status',\n",
    "    'Sky', 'Wind', 'Disturbance', 'Previously_Obs', 'Initial_Three_Min_Cnt', 'Site_Name',\n",
    "    'Season'\n",
    "]\n",
    "discrete_cols = ['Year', 'Visit']\n",
    "continuous_cols = ['Temperature', 'Humidity']\n",
    "datetime_cols = ['Month']\n",
    "\n",
    "\n",
    "def choose_column(col_list):\n",
    "    print(\"\\nAvailable columns:\")\n",
    "    for idx, col in enumerate(col_list, start=1):\n",
    "        print(f\"{idx}. {col}\")\n",
    "    try:\n",
    "        col_index = int(input(\"Select a column number: \")) - 1\n",
    "        if 0 <= col_index < len(col_list):\n",
    "            return col_list[col_index]\n",
    "        else:\n",
    "            print(\"Error: Invalid selection, number out of range.\")\n",
    "            return None\n",
    "    except ValueError:\n",
    "        print(\"Error: Invalid input. Please enter a valid number.\")\n",
    "        return None\n",
    "\n",
    "\n",
    "print(\"\\nWhat type of data would you like to visualize?\")\n",
    "print(\"1. Categorical\")\n",
    "print(\"2. Discrete\")\n",
    "print(\"3. Continuous\")\n",
    "print(\"4. Date/Time\")\n",
    "choice = input(\"Enter your choice (1–4): \")\n",
    "\n",
    "\n",
    "if choice == \"1\":\n",
    "    selected_col = choose_column(categorical_cols)\n",
    "    if selected_col and selected_col in combined_df.columns:\n",
    "        value_counts = combined_df[selected_col].value_counts().head(20)\n",
    "        plt.figure(figsize=(10, 5))\n",
    "        plt.barh(value_counts.index[::-1], value_counts.values[::-1], color='skyblue')\n",
    "        plt.title(f\"Top 20 values in '{selected_col}'\")\n",
    "        plt.xlabel(\"Count\")\n",
    "        plt.tight_layout()\n",
    "        plt.show()\n",
    "    else:\n",
    "        print(f\"Error: '{selected_col}' not found in the dataset.\")\n",
    "\n",
    "\n",
    "elif choice == \"2\":\n",
    "    selected_col = choose_column(discrete_cols)\n",
    "    if selected_col and selected_col in combined_df.columns:\n",
    "        counts = combined_df[selected_col].value_counts().sort_index()\n",
    "        plt.figure(figsize=(6, 4))\n",
    "        plt.bar(counts.index, counts.values, color='lightgreen')\n",
    "        plt.title(f\"Distribution of '{selected_col}'\")\n",
    "        plt.xlabel(selected_col)\n",
    "        plt.ylabel(\"Count\")\n",
    "        plt.tight_layout()\n",
    "        plt.show()\n",
    "    else:\n",
    "        print(f\"Error: '{selected_col}' not found in the dataset.\")\n",
    "\n",
    "\n",
    "elif choice == \"3\":\n",
    "    selected_col = choose_column(continuous_cols)\n",
    "    if selected_col and selected_col in combined_df.columns:\n",
    "        plt.figure(figsize=(6, 4))\n",
    "        plt.hist(combined_df[selected_col].dropna(), bins=20, color='coral', edgecolor='black')\n",
    "        plt.title(f\"Histogram of '{selected_col}'\")\n",
    "        plt.xlabel(selected_col)\n",
    "        plt.ylabel(\"Frequency\")\n",
    "        plt.tight_layout()\n",
    "        plt.show()\n",
    "    else:\n",
    "        print(f\"Error: '{selected_col}' not found in the dataset.\")\n",
    "\n",
    "\n",
    "elif choice == \"4\":\n",
    "    if 'Month' in combined_df.columns:\n",
    "       \n",
    "        month_order = ['January', 'February', 'March', 'April', 'May', 'June',\n",
    "                       'July', 'August', 'September', 'October', 'November', 'December']\n",
    "\n",
    "      \n",
    "        combined_df['Month'] = pd.Categorical(combined_df['Month'], categories=month_order, ordered=True)\n",
    "        month_counts = combined_df['Month'].value_counts().sort_index()\n",
    "\n",
    "        plt.figure(figsize=(10, 5))\n",
    "        plt.plot(month_counts.index, month_counts.values, marker='o', linestyle='-', color='teal')\n",
    "        plt.xticks(rotation=45)\n",
    "        plt.title(\"Bird Sightings by Month\")\n",
    "        plt.xlabel(\"Month\")\n",
    "        plt.ylabel(\"Sightings\")\n",
    "        plt.grid(True)\n",
    "        plt.tight_layout()\n",
    "        plt.show()\n",
    "    else:\n",
    "        print(\"Error: 'Month' column not found in the dataset.\")\n",
    "\n",
    "\n",
    "else:\n",
    "    print(\"Error: Invalid choice. Please select a number from 1 to 4.\")\n"
   ]
  },
  {
   "cell_type": "code",
   "execution_count": 75,
   "id": "bd0dac5f",
   "metadata": {},
   "outputs": [
    {
     "data": {
      "text/plain": [
       "Admin_Unit_Code                0\n",
       "Plot_Name                      0\n",
       "Location_Type                  0\n",
       "Year                           0\n",
       "Start_Time                     0\n",
       "End_Time                       0\n",
       "Observer                       0\n",
       "Visit                          0\n",
       "Interval_Length                0\n",
       "ID_Method                      0\n",
       "Distance                       0\n",
       "Flyover_Observed               0\n",
       "Sex                            0\n",
       "Common_Name                    0\n",
       "Scientific_Name                0\n",
       "AcceptedTSN                    0\n",
       "NPSTaxonCode                   0\n",
       "AOU_Code                       0\n",
       "PIF_Watchlist_Status           0\n",
       "Regional_Stewardship_Status    0\n",
       "Temperature                    0\n",
       "Humidity                       0\n",
       "Sky                            0\n",
       "Wind                           0\n",
       "Disturbance                    0\n",
       "Initial_Three_Min_Cnt          0\n",
       "Month                          0\n",
       "Season                         0\n",
       "Observation_Duration           0\n",
       "Latitude                       0\n",
       "Longitude                      0\n",
       "dtype: int64"
      ]
     },
     "execution_count": 75,
     "metadata": {},
     "output_type": "execute_result"
    }
   ],
   "source": [
    "combined_df.isnull().sum()"
   ]
  },
  {
   "cell_type": "code",
   "execution_count": 59,
   "id": "addcc307",
   "metadata": {},
   "outputs": [
    {
     "data": {
      "text/plain": [
       "Admin_Unit_Code                        object\n",
       "Plot_Name                              object\n",
       "Location_Type                          object\n",
       "Year                                   object\n",
       "Start_Time                     datetime64[ns]\n",
       "End_Time                       datetime64[ns]\n",
       "Observer                               object\n",
       "Visit                                  object\n",
       "Interval_Length                        object\n",
       "ID_Method                              object\n",
       "Distance                               object\n",
       "Flyover_Observed                         bool\n",
       "Sex                                    object\n",
       "Common_Name                            object\n",
       "Scientific_Name                        object\n",
       "AcceptedTSN                           float64\n",
       "NPSTaxonCode                          float64\n",
       "AOU_Code                               object\n",
       "PIF_Watchlist_Status                     bool\n",
       "Regional_Stewardship_Status              bool\n",
       "Temperature                           float64\n",
       "Humidity                              float64\n",
       "Sky                                    object\n",
       "Wind                                   object\n",
       "Disturbance                            object\n",
       "Initial_Three_Min_Cnt                    bool\n",
       "Month                                  object\n",
       "Season                                 object\n",
       "Observation_Duration                   object\n",
       "dtype: object"
      ]
     },
     "execution_count": 59,
     "metadata": {},
     "output_type": "execute_result"
    }
   ],
   "source": [
    "combined_df.dtypes"
   ]
  },
  {
   "cell_type": "code",
   "execution_count": 60,
   "id": "e19297ef",
   "metadata": {},
   "outputs": [],
   "source": [
    "location_map = {\n",
    "    'ANTI': ('39.4671°N', '77.7363°W'),\n",
    "    'CATO': ('39.6268°N', '77.4398°W'),\n",
    "    'CHOH': ('39.5000°N', '77.8450°W'),\n",
    "    'GWMP': ('38.9601°N', '77.1517°W'),\n",
    "    'HAFE': ('39.3178°N', '77.7581°W'),\n",
    "    'MANA': ('38.8171°N', '77.5353°W'),\n",
    "    'MONO': ('39.3775°N', '77.3973°W'),\n",
    "    'NACE': ('38.8660°N', '76.9940°W'),\n",
    "    'PRWI': ('38.5854°N', '77.3842°W'),\n",
    "    'ROCR': ('38.9675°N', '77.0452°W'),\n",
    "    'WOTR': ('38.933477°N', '-77.276510°W')}\n",
    "combined_df['Latitude'] = None\n",
    "combined_df['Longitude'] = None\n",
    "\n",
    "for code, (lat, lon) in location_map.items():\n",
    "    combined_df.loc[combined_df['Admin_Unit_Code'] == code, ['Latitude', 'Longitude']] = [lat, lon]"
   ]
  },
  {
   "cell_type": "code",
   "execution_count": 61,
   "id": "b5abb867",
   "metadata": {},
   "outputs": [],
   "source": [
    "def clean_lat(lat_str):\n",
    "    if isinstance(lat_str, str):\n",
    "        return float(lat_str.replace(\"°N\", \"\").replace(\"° N\", \"\").strip())\n",
    "    return lat_str \n",
    "\n",
    "def clean_long(long_str):\n",
    "    if isinstance(long_str, str):\n",
    "        long_str = long_str.replace(\"°W\", \"\").replace(\"° W\", \"\").replace(\"−\", \"-\").strip()\n",
    "        return -abs(float(long_str)) \n",
    "    return long_str "
   ]
  },
  {
   "cell_type": "code",
   "execution_count": 62,
   "id": "a68934ac",
   "metadata": {},
   "outputs": [
    {
     "data": {
      "text/html": [
       "<div>\n",
       "<style scoped>\n",
       "    .dataframe tbody tr th:only-of-type {\n",
       "        vertical-align: middle;\n",
       "    }\n",
       "\n",
       "    .dataframe tbody tr th {\n",
       "        vertical-align: top;\n",
       "    }\n",
       "\n",
       "    .dataframe thead th {\n",
       "        text-align: right;\n",
       "    }\n",
       "</style>\n",
       "<table border=\"1\" class=\"dataframe\">\n",
       "  <thead>\n",
       "    <tr style=\"text-align: right;\">\n",
       "      <th></th>\n",
       "      <th>Admin_Unit_Code</th>\n",
       "      <th>Plot_Name</th>\n",
       "      <th>Location_Type</th>\n",
       "      <th>Year</th>\n",
       "      <th>Start_Time</th>\n",
       "      <th>End_Time</th>\n",
       "      <th>Observer</th>\n",
       "      <th>Visit</th>\n",
       "      <th>Interval_Length</th>\n",
       "      <th>ID_Method</th>\n",
       "      <th>...</th>\n",
       "      <th>Humidity</th>\n",
       "      <th>Sky</th>\n",
       "      <th>Wind</th>\n",
       "      <th>Disturbance</th>\n",
       "      <th>Initial_Three_Min_Cnt</th>\n",
       "      <th>Month</th>\n",
       "      <th>Season</th>\n",
       "      <th>Observation_Duration</th>\n",
       "      <th>Latitude</th>\n",
       "      <th>Longitude</th>\n",
       "    </tr>\n",
       "  </thead>\n",
       "  <tbody>\n",
       "    <tr>\n",
       "      <th>1</th>\n",
       "      <td>ANTI</td>\n",
       "      <td>ANTI-0054</td>\n",
       "      <td>Grassland</td>\n",
       "      <td>2018</td>\n",
       "      <td>1900-01-01 05:35:00</td>\n",
       "      <td>1900-01-01 05:45:00</td>\n",
       "      <td>Elizabeth Oswald</td>\n",
       "      <td>1</td>\n",
       "      <td>0-2.5 min</td>\n",
       "      <td>Singing</td>\n",
       "      <td>...</td>\n",
       "      <td>79.0</td>\n",
       "      <td>Cloudy/Overcast</td>\n",
       "      <td>Light breeze (4-7 mph) wind felt on face</td>\n",
       "      <td>Slight effect on count</td>\n",
       "      <td>True</td>\n",
       "      <td>May</td>\n",
       "      <td>Spring</td>\n",
       "      <td>10 min</td>\n",
       "      <td>39.467100</td>\n",
       "      <td>-77.73630</td>\n",
       "    </tr>\n",
       "    <tr>\n",
       "      <th>2</th>\n",
       "      <td>ANTI</td>\n",
       "      <td>ANTI-0054</td>\n",
       "      <td>Grassland</td>\n",
       "      <td>2018</td>\n",
       "      <td>1900-01-01 05:35:00</td>\n",
       "      <td>1900-01-01 05:45:00</td>\n",
       "      <td>Elizabeth Oswald</td>\n",
       "      <td>1</td>\n",
       "      <td>7.5 - 10 min</td>\n",
       "      <td>Singing</td>\n",
       "      <td>...</td>\n",
       "      <td>79.0</td>\n",
       "      <td>Cloudy/Overcast</td>\n",
       "      <td>Light breeze (4-7 mph) wind felt on face</td>\n",
       "      <td>Slight effect on count</td>\n",
       "      <td>False</td>\n",
       "      <td>May</td>\n",
       "      <td>Spring</td>\n",
       "      <td>10 min</td>\n",
       "      <td>39.467100</td>\n",
       "      <td>-77.73630</td>\n",
       "    </tr>\n",
       "    <tr>\n",
       "      <th>3</th>\n",
       "      <td>ANTI</td>\n",
       "      <td>ANTI-0054</td>\n",
       "      <td>Grassland</td>\n",
       "      <td>2018</td>\n",
       "      <td>1900-01-01 05:35:00</td>\n",
       "      <td>1900-01-01 05:45:00</td>\n",
       "      <td>Elizabeth Oswald</td>\n",
       "      <td>1</td>\n",
       "      <td>0-2.5 min</td>\n",
       "      <td>Singing</td>\n",
       "      <td>...</td>\n",
       "      <td>79.0</td>\n",
       "      <td>Cloudy/Overcast</td>\n",
       "      <td>Light breeze (4-7 mph) wind felt on face</td>\n",
       "      <td>Slight effect on count</td>\n",
       "      <td>True</td>\n",
       "      <td>May</td>\n",
       "      <td>Spring</td>\n",
       "      <td>10 min</td>\n",
       "      <td>39.467100</td>\n",
       "      <td>-77.73630</td>\n",
       "    </tr>\n",
       "    <tr>\n",
       "      <th>4</th>\n",
       "      <td>ANTI</td>\n",
       "      <td>ANTI-0054</td>\n",
       "      <td>Grassland</td>\n",
       "      <td>2018</td>\n",
       "      <td>1900-01-01 05:35:00</td>\n",
       "      <td>1900-01-01 05:45:00</td>\n",
       "      <td>Elizabeth Oswald</td>\n",
       "      <td>1</td>\n",
       "      <td>0-2.5 min</td>\n",
       "      <td>Singing</td>\n",
       "      <td>...</td>\n",
       "      <td>79.0</td>\n",
       "      <td>Cloudy/Overcast</td>\n",
       "      <td>Light breeze (4-7 mph) wind felt on face</td>\n",
       "      <td>Slight effect on count</td>\n",
       "      <td>True</td>\n",
       "      <td>May</td>\n",
       "      <td>Spring</td>\n",
       "      <td>10 min</td>\n",
       "      <td>39.467100</td>\n",
       "      <td>-77.73630</td>\n",
       "    </tr>\n",
       "    <tr>\n",
       "      <th>5</th>\n",
       "      <td>ANTI</td>\n",
       "      <td>ANTI-0054</td>\n",
       "      <td>Grassland</td>\n",
       "      <td>2018</td>\n",
       "      <td>1900-01-01 05:35:00</td>\n",
       "      <td>1900-01-01 05:45:00</td>\n",
       "      <td>Elizabeth Oswald</td>\n",
       "      <td>1</td>\n",
       "      <td>0-2.5 min</td>\n",
       "      <td>Singing</td>\n",
       "      <td>...</td>\n",
       "      <td>79.0</td>\n",
       "      <td>Cloudy/Overcast</td>\n",
       "      <td>Light breeze (4-7 mph) wind felt on face</td>\n",
       "      <td>Slight effect on count</td>\n",
       "      <td>True</td>\n",
       "      <td>May</td>\n",
       "      <td>Spring</td>\n",
       "      <td>10 min</td>\n",
       "      <td>39.467100</td>\n",
       "      <td>-77.73630</td>\n",
       "    </tr>\n",
       "    <tr>\n",
       "      <th>...</th>\n",
       "      <td>...</td>\n",
       "      <td>...</td>\n",
       "      <td>...</td>\n",
       "      <td>...</td>\n",
       "      <td>...</td>\n",
       "      <td>...</td>\n",
       "      <td>...</td>\n",
       "      <td>...</td>\n",
       "      <td>...</td>\n",
       "      <td>...</td>\n",
       "      <td>...</td>\n",
       "      <td>...</td>\n",
       "      <td>...</td>\n",
       "      <td>...</td>\n",
       "      <td>...</td>\n",
       "      <td>...</td>\n",
       "      <td>...</td>\n",
       "      <td>...</td>\n",
       "      <td>...</td>\n",
       "      <td>...</td>\n",
       "      <td>...</td>\n",
       "    </tr>\n",
       "    <tr>\n",
       "      <th>17073</th>\n",
       "      <td>WOTR</td>\n",
       "      <td>WOTR-0001</td>\n",
       "      <td>Forest</td>\n",
       "      <td>2018</td>\n",
       "      <td>1900-01-01 08:13:00</td>\n",
       "      <td>1900-01-01 08:23:00</td>\n",
       "      <td>Kimberly Serno</td>\n",
       "      <td>2</td>\n",
       "      <td>0-2.5 min</td>\n",
       "      <td>Singing</td>\n",
       "      <td>...</td>\n",
       "      <td>75.5</td>\n",
       "      <td>Clear or Few Clouds</td>\n",
       "      <td>Light air movement (1-3 mph) smoke drifts</td>\n",
       "      <td>Slight effect on count</td>\n",
       "      <td>True</td>\n",
       "      <td>July</td>\n",
       "      <td>Summer</td>\n",
       "      <td>10 min</td>\n",
       "      <td>38.933477</td>\n",
       "      <td>-77.27651</td>\n",
       "    </tr>\n",
       "    <tr>\n",
       "      <th>17074</th>\n",
       "      <td>WOTR</td>\n",
       "      <td>WOTR-0001</td>\n",
       "      <td>Forest</td>\n",
       "      <td>2018</td>\n",
       "      <td>1900-01-01 08:13:00</td>\n",
       "      <td>1900-01-01 08:23:00</td>\n",
       "      <td>Kimberly Serno</td>\n",
       "      <td>2</td>\n",
       "      <td>0-2.5 min</td>\n",
       "      <td>Singing</td>\n",
       "      <td>...</td>\n",
       "      <td>75.5</td>\n",
       "      <td>Clear or Few Clouds</td>\n",
       "      <td>Light air movement (1-3 mph) smoke drifts</td>\n",
       "      <td>Slight effect on count</td>\n",
       "      <td>True</td>\n",
       "      <td>July</td>\n",
       "      <td>Summer</td>\n",
       "      <td>10 min</td>\n",
       "      <td>38.933477</td>\n",
       "      <td>-77.27651</td>\n",
       "    </tr>\n",
       "    <tr>\n",
       "      <th>17075</th>\n",
       "      <td>WOTR</td>\n",
       "      <td>WOTR-0001</td>\n",
       "      <td>Forest</td>\n",
       "      <td>2018</td>\n",
       "      <td>1900-01-01 08:13:00</td>\n",
       "      <td>1900-01-01 08:23:00</td>\n",
       "      <td>Kimberly Serno</td>\n",
       "      <td>2</td>\n",
       "      <td>7.5 - 10 min</td>\n",
       "      <td>Singing</td>\n",
       "      <td>...</td>\n",
       "      <td>75.5</td>\n",
       "      <td>Clear or Few Clouds</td>\n",
       "      <td>Light air movement (1-3 mph) smoke drifts</td>\n",
       "      <td>Slight effect on count</td>\n",
       "      <td>False</td>\n",
       "      <td>July</td>\n",
       "      <td>Summer</td>\n",
       "      <td>10 min</td>\n",
       "      <td>38.933477</td>\n",
       "      <td>-77.27651</td>\n",
       "    </tr>\n",
       "    <tr>\n",
       "      <th>17076</th>\n",
       "      <td>WOTR</td>\n",
       "      <td>WOTR-0001</td>\n",
       "      <td>Forest</td>\n",
       "      <td>2018</td>\n",
       "      <td>1900-01-01 08:13:00</td>\n",
       "      <td>1900-01-01 08:23:00</td>\n",
       "      <td>Kimberly Serno</td>\n",
       "      <td>2</td>\n",
       "      <td>0-2.5 min</td>\n",
       "      <td>Singing</td>\n",
       "      <td>...</td>\n",
       "      <td>75.5</td>\n",
       "      <td>Clear or Few Clouds</td>\n",
       "      <td>Light air movement (1-3 mph) smoke drifts</td>\n",
       "      <td>Slight effect on count</td>\n",
       "      <td>True</td>\n",
       "      <td>July</td>\n",
       "      <td>Summer</td>\n",
       "      <td>10 min</td>\n",
       "      <td>38.933477</td>\n",
       "      <td>-77.27651</td>\n",
       "    </tr>\n",
       "    <tr>\n",
       "      <th>17077</th>\n",
       "      <td>WOTR</td>\n",
       "      <td>WOTR-0001</td>\n",
       "      <td>Forest</td>\n",
       "      <td>2018</td>\n",
       "      <td>1900-01-01 08:13:00</td>\n",
       "      <td>1900-01-01 08:23:00</td>\n",
       "      <td>Kimberly Serno</td>\n",
       "      <td>2</td>\n",
       "      <td>0-2.5 min</td>\n",
       "      <td>Calling</td>\n",
       "      <td>...</td>\n",
       "      <td>75.5</td>\n",
       "      <td>Clear or Few Clouds</td>\n",
       "      <td>Light air movement (1-3 mph) smoke drifts</td>\n",
       "      <td>Slight effect on count</td>\n",
       "      <td>True</td>\n",
       "      <td>July</td>\n",
       "      <td>Summer</td>\n",
       "      <td>10 min</td>\n",
       "      <td>38.933477</td>\n",
       "      <td>-77.27651</td>\n",
       "    </tr>\n",
       "  </tbody>\n",
       "</table>\n",
       "<p>15371 rows × 31 columns</p>\n",
       "</div>"
      ],
      "text/plain": [
       "      Admin_Unit_Code  Plot_Name Location_Type  Year          Start_Time  \\\n",
       "1                ANTI  ANTI-0054     Grassland  2018 1900-01-01 05:35:00   \n",
       "2                ANTI  ANTI-0054     Grassland  2018 1900-01-01 05:35:00   \n",
       "3                ANTI  ANTI-0054     Grassland  2018 1900-01-01 05:35:00   \n",
       "4                ANTI  ANTI-0054     Grassland  2018 1900-01-01 05:35:00   \n",
       "5                ANTI  ANTI-0054     Grassland  2018 1900-01-01 05:35:00   \n",
       "...               ...        ...           ...   ...                 ...   \n",
       "17073            WOTR  WOTR-0001        Forest  2018 1900-01-01 08:13:00   \n",
       "17074            WOTR  WOTR-0001        Forest  2018 1900-01-01 08:13:00   \n",
       "17075            WOTR  WOTR-0001        Forest  2018 1900-01-01 08:13:00   \n",
       "17076            WOTR  WOTR-0001        Forest  2018 1900-01-01 08:13:00   \n",
       "17077            WOTR  WOTR-0001        Forest  2018 1900-01-01 08:13:00   \n",
       "\n",
       "                 End_Time          Observer Visit Interval_Length ID_Method  \\\n",
       "1     1900-01-01 05:45:00  Elizabeth Oswald     1       0-2.5 min   Singing   \n",
       "2     1900-01-01 05:45:00  Elizabeth Oswald     1    7.5 - 10 min   Singing   \n",
       "3     1900-01-01 05:45:00  Elizabeth Oswald     1       0-2.5 min   Singing   \n",
       "4     1900-01-01 05:45:00  Elizabeth Oswald     1       0-2.5 min   Singing   \n",
       "5     1900-01-01 05:45:00  Elizabeth Oswald     1       0-2.5 min   Singing   \n",
       "...                   ...               ...   ...             ...       ...   \n",
       "17073 1900-01-01 08:23:00    Kimberly Serno     2       0-2.5 min   Singing   \n",
       "17074 1900-01-01 08:23:00    Kimberly Serno     2       0-2.5 min   Singing   \n",
       "17075 1900-01-01 08:23:00    Kimberly Serno     2    7.5 - 10 min   Singing   \n",
       "17076 1900-01-01 08:23:00    Kimberly Serno     2       0-2.5 min   Singing   \n",
       "17077 1900-01-01 08:23:00    Kimberly Serno     2       0-2.5 min   Calling   \n",
       "\n",
       "       ... Humidity                  Sky  \\\n",
       "1      ...     79.0      Cloudy/Overcast   \n",
       "2      ...     79.0      Cloudy/Overcast   \n",
       "3      ...     79.0      Cloudy/Overcast   \n",
       "4      ...     79.0      Cloudy/Overcast   \n",
       "5      ...     79.0      Cloudy/Overcast   \n",
       "...    ...      ...                  ...   \n",
       "17073  ...     75.5  Clear or Few Clouds   \n",
       "17074  ...     75.5  Clear or Few Clouds   \n",
       "17075  ...     75.5  Clear or Few Clouds   \n",
       "17076  ...     75.5  Clear or Few Clouds   \n",
       "17077  ...     75.5  Clear or Few Clouds   \n",
       "\n",
       "                                            Wind             Disturbance  \\\n",
       "1       Light breeze (4-7 mph) wind felt on face  Slight effect on count   \n",
       "2       Light breeze (4-7 mph) wind felt on face  Slight effect on count   \n",
       "3       Light breeze (4-7 mph) wind felt on face  Slight effect on count   \n",
       "4       Light breeze (4-7 mph) wind felt on face  Slight effect on count   \n",
       "5       Light breeze (4-7 mph) wind felt on face  Slight effect on count   \n",
       "...                                          ...                     ...   \n",
       "17073  Light air movement (1-3 mph) smoke drifts  Slight effect on count   \n",
       "17074  Light air movement (1-3 mph) smoke drifts  Slight effect on count   \n",
       "17075  Light air movement (1-3 mph) smoke drifts  Slight effect on count   \n",
       "17076  Light air movement (1-3 mph) smoke drifts  Slight effect on count   \n",
       "17077  Light air movement (1-3 mph) smoke drifts  Slight effect on count   \n",
       "\n",
       "      Initial_Three_Min_Cnt  Month  Season Observation_Duration   Latitude  \\\n",
       "1                      True    May  Spring               10 min  39.467100   \n",
       "2                     False    May  Spring               10 min  39.467100   \n",
       "3                      True    May  Spring               10 min  39.467100   \n",
       "4                      True    May  Spring               10 min  39.467100   \n",
       "5                      True    May  Spring               10 min  39.467100   \n",
       "...                     ...    ...     ...                  ...        ...   \n",
       "17073                  True   July  Summer               10 min  38.933477   \n",
       "17074                  True   July  Summer               10 min  38.933477   \n",
       "17075                 False   July  Summer               10 min  38.933477   \n",
       "17076                  True   July  Summer               10 min  38.933477   \n",
       "17077                  True   July  Summer               10 min  38.933477   \n",
       "\n",
       "       Longitude  \n",
       "1      -77.73630  \n",
       "2      -77.73630  \n",
       "3      -77.73630  \n",
       "4      -77.73630  \n",
       "5      -77.73630  \n",
       "...          ...  \n",
       "17073  -77.27651  \n",
       "17074  -77.27651  \n",
       "17075  -77.27651  \n",
       "17076  -77.27651  \n",
       "17077  -77.27651  \n",
       "\n",
       "[15371 rows x 31 columns]"
      ]
     },
     "execution_count": 62,
     "metadata": {},
     "output_type": "execute_result"
    }
   ],
   "source": [
    "combined_df[\"Latitude\"] = combined_df[\"Latitude\"].apply(clean_lat)\n",
    "combined_df[\"Longitude\"] = combined_df[\"Longitude\"].apply(clean_long)\n",
    "combined_df"
   ]
  },
  {
   "cell_type": "code",
   "execution_count": 74,
   "id": "75529c10",
   "metadata": {},
   "outputs": [
    {
     "data": {
      "text/plain": [
       "15371"
      ]
     },
     "execution_count": 74,
     "metadata": {},
     "output_type": "execute_result"
    }
   ],
   "source": [
    "combined_df.to_sql(name='birds_table', con=engine, if_exists='replace', index=False)"
   ]
  }
 ],
 "metadata": {
  "kernelspec": {
   "display_name": "base",
   "language": "python",
   "name": "python3"
  },
  "language_info": {
   "codemirror_mode": {
    "name": "ipython",
    "version": 3
   },
   "file_extension": ".py",
   "mimetype": "text/x-python",
   "name": "python",
   "nbconvert_exporter": "python",
   "pygments_lexer": "ipython3",
   "version": "3.12.7"
  }
 },
 "nbformat": 4,
 "nbformat_minor": 5
}
